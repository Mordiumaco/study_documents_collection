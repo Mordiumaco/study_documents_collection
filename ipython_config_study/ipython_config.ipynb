{
 "cells": [
  {
   "cell_type": "markdown",
   "metadata": {
    "toc": true
   },
   "source": [
    "<h1>Table of Contents<span class=\"tocSkip\"></span></h1>\n",
    "<div class=\"toc\"><ul class=\"toc-item\"><li><span><a href=\"#ipython-설정\" data-toc-modified-id=\"ipython-설정-1\"><span class=\"toc-item-num\">1&nbsp;&nbsp;</span>ipython 설정</a></span></li><li><span><a href=\"#autopep-8-기능-추가\" data-toc-modified-id=\"autopep-8-기능-추가-2\"><span class=\"toc-item-num\">2&nbsp;&nbsp;</span>autopep 8 기능 추가</a></span></li><li><span><a href=\"#test\" data-toc-modified-id=\"test-3\"><span class=\"toc-item-num\">3&nbsp;&nbsp;</span>test</a></span></li></ul></div>"
   ]
  },
  {
   "cell_type": "markdown",
   "metadata": {},
   "source": [
    "### ipython 설정\n",
    "\n",
    "- startup 파일 설정 \n",
    "    - 주피터 노트북 실행시 미리 실행되는 코드 설정 \n",
    "    - 설정 방법 \n",
    "        - 프로필 파일 생성 : `$ ipython profile create `\n",
    "        - startup 파일 수정 \n",
    "            - `$ cd ~/.ipython/profile_default/startup`\n",
    "            - `$ vi 00-first.py`\n",
    "            \n",
    "``` ipython \n",
    "#basic \n",
    "import time\n",
    "import random \n",
    "\n",
    "# 경고 무시\n",
    "import warnings\n",
    "warnings.simplefilter('ignore')\n",
    "\n",
    "# 자주 사용하는 패키지를 임포트\n",
    "import numpy as np\n",
    "import scipy as sp\n",
    "import pandas as pd\n",
    "import statsmodels.api as sm\n",
    "import sklearn as sk\n",
    "\n",
    "# matplotlib 설정\n",
    "mpl.use('Agg')\n",
    "[f.name for f in mpl.font_manager.fontManager.ttflist if f.name.startswith(\"N\")]\n",
    "\n",
    "#web crawling \n",
    "import request\n",
    "from bs4 import BeautifulSoup \n",
    "\n",
    "\n",
    "#visualization\n",
    "import matplotlib as mpl\n",
    "#matplotlib.pylab도 있으나 추후 사라질 가능성이 높다.\n",
    "import matplotlib.pyplot as plt\n",
    "from mpl_toolkits.mplot3d import Axes3D\n",
    "import seaborn as sns\n",
    "\n",
    "# seaborn 설정\n",
    "sns.set()\n",
    "sns.set_style(\"whitegrid\")\n",
    "sns.set_color_codes()\n",
    "\n",
    "# Do not remove this line!\n",
    "plt, Axes3D, sns, np, sp, pd, sm, sk\n",
    "\n",
    "```\n",
    "\n",
    "- inline backend config \n",
    "    - 매직 커맨드 설정 없이 바로 그래프를 그릴 수 있도록 설정\n",
    "    - `$ vi  ~/.ipython/profile_default/ipython-kerner-config.py`\n",
    "    \n",
    "```\n",
    "c.IPKernelApp.matplotlib = 'inline'\n",
    "c.InlineBackend.figure_format = 'retina'\n",
    "```"
   ]
  },
  {
   "cell_type": "markdown",
   "metadata": {},
   "source": [
    "### autopep 8 기능 추가 \n",
    "- 자동으로 pep 규약에 맞게 정렬해준다. \n",
    "\n",
    "- nbextentions config 설치 \n",
    "    - `$ conda install -c conda-forge jupyter_contrib_nbextenstions` \n",
    "    - 주피터 노트북 서버 재시작 \n",
    "\n",
    "- autopep8 패키지 설치 \n",
    "    - `pip install autopep8` 파이썬 패키지 관리자로 설치\n",
    "    - `conda install -c conda-forge autopep8` 아나콘다 패키지 관리자로 설치\n",
    "    - (anaconda, conda-forge << 저장소 이름이며 다른 저장소는 추천 안함)\n",
    "    - 둘 중 하나 선택해서 pip든 conda 든 둘중 하나 선택해서 설치하면 된다\n",
    " \n",
    "- Edit - nbextentions config 메뉴로 들어가서 autopep8 를 체크한다\n",
    "- 단일셀 : ctrl + l\n",
    "- 모든셀 : ctrl + shift +l\n",
    "\n",
    "> test"
   ]
  },
  {
   "cell_type": "code",
   "execution_count": 1,
   "metadata": {
    "ExecuteTime": {
     "end_time": "2020-06-12T17:24:28.904544Z",
     "start_time": "2020-06-12T17:24:28.898561Z"
    }
   },
   "outputs": [
    {
     "name": "stdout",
     "output_type": "stream",
     "text": [
      "test\n"
     ]
    }
   ],
   "source": [
    "a = 1 + 1\n",
    "b = 131\n",
    "\n",
    "print('test')"
   ]
  },
  {
   "cell_type": "code",
   "execution_count": 9,
   "metadata": {
    "ExecuteTime": {
     "end_time": "2020-06-12T16:31:36.341505Z",
     "start_time": "2020-06-12T16:31:36.337513Z"
    }
   },
   "outputs": [],
   "source": [
    "c = 1"
   ]
  },
  {
   "cell_type": "markdown",
   "metadata": {},
   "source": [
    "### test"
   ]
  },
  {
   "cell_type": "code",
   "execution_count": null,
   "metadata": {},
   "outputs": [],
   "source": []
  }
 ],
 "metadata": {
  "hide_input": false,
  "kernelspec": {
   "display_name": "Python 3",
   "language": "python",
   "name": "python3"
  },
  "language_info": {
   "codemirror_mode": {
    "name": "ipython",
    "version": 3
   },
   "file_extension": ".py",
   "mimetype": "text/x-python",
   "name": "python",
   "nbconvert_exporter": "python",
   "pygments_lexer": "ipython3",
   "version": "3.7.6"
  },
  "toc": {
   "base_numbering": 1,
   "nav_menu": {},
   "number_sections": true,
   "sideBar": true,
   "skip_h1_title": false,
   "title_cell": "Table of Contents",
   "title_sidebar": "Contents",
   "toc_cell": true,
   "toc_position": {
    "height": "calc(100% - 180px)",
    "left": "10px",
    "top": "150px",
    "width": "204px"
   },
   "toc_section_display": true,
   "toc_window_display": true
  },
  "varInspector": {
   "cols": {
    "lenName": 16,
    "lenType": 16,
    "lenVar": 40
   },
   "kernels_config": {
    "python": {
     "delete_cmd_postfix": "",
     "delete_cmd_prefix": "del ",
     "library": "var_list.py",
     "varRefreshCmd": "print(var_dic_list())"
    },
    "r": {
     "delete_cmd_postfix": ") ",
     "delete_cmd_prefix": "rm(",
     "library": "var_list.r",
     "varRefreshCmd": "cat(var_dic_list()) "
    }
   },
   "position": {
    "height": "144px",
    "left": "1048px",
    "right": "20px",
    "top": "83px",
    "width": "350px"
   },
   "types_to_exclude": [
    "module",
    "function",
    "builtin_function_or_method",
    "instance",
    "_Feature"
   ],
   "window_display": false
  }
 },
 "nbformat": 4,
 "nbformat_minor": 4
}
