{
 "cells": [
  {
   "cell_type": "markdown",
   "metadata": {
    "toc": true
   },
   "source": [
    "<h1>Jupyter Notebook<span class=\"tocSkip\"></span></h1>\n",
    "<div class=\"toc\"><ul class=\"toc-item\"><li><span><a href=\"#Jupyter-Notebook-기본-기능-정리\" data-toc-modified-id=\"Jupyter-Notebook-기본-기능-정리-1\"><span class=\"toc-item-num\">1&nbsp;&nbsp;</span>Jupyter Notebook 기본 기능 정리</a></span><ul class=\"toc-item\"><li><span><a href=\"#모드-(-단축키-)\" data-toc-modified-id=\"모드-(-단축키-)-1.1\"><span class=\"toc-item-num\">1.1&nbsp;&nbsp;</span>모드 ( 단축키 )</a></span></li><li><span><a href=\"#셀-스타일\" data-toc-modified-id=\"셀-스타일-1.2\"><span class=\"toc-item-num\">1.2&nbsp;&nbsp;</span>셀 스타일</a></span></li><li><span><a href=\"#단축키\" data-toc-modified-id=\"단축키-1.3\"><span class=\"toc-item-num\">1.3&nbsp;&nbsp;</span>단축키</a></span></li><li><span><a href=\"#Magic-Command\" data-toc-modified-id=\"Magic-Command-1.4\"><span class=\"toc-item-num\">1.4&nbsp;&nbsp;</span>Magic Command</a></span><ul class=\"toc-item\"><li><span><a href=\"#표현을-위한-prefix\" data-toc-modified-id=\"표현을-위한-prefix-1.4.1\"><span class=\"toc-item-num\">1.4.1&nbsp;&nbsp;</span>표현을 위한 prefix</a></span></li><li><span><a href=\"#Magic-Command-List\" data-toc-modified-id=\"Magic-Command-List-1.4.2\"><span class=\"toc-item-num\">1.4.2&nbsp;&nbsp;</span>Magic Command List</a></span></li></ul></li><li><span><a href=\"#Shell-Command\" data-toc-modified-id=\"Shell-Command-1.5\"><span class=\"toc-item-num\">1.5&nbsp;&nbsp;</span>Shell Command</a></span></li></ul></li></ul></div>"
   ]
  },
  {
   "cell_type": "markdown",
   "metadata": {},
   "source": [
    "> 해당 블로그의 글은 공부를 하면서 정리를 한 내용입니다.\n",
    "필자가 미처 모르는 부분이 있거나 잘못된 내용이 있을 수 있습니다. \n",
    "오타 및 잘못된 내용 발견 시, 댓글로 남겨주시면 수정 및 반영하겠습니다.\n",
    "감사합니다. \n",
    "내용은 추가되거나 수정될 수 있습니다\n",
    ">> 2020.06.18 작성 \n",
    "\n",
    "\n",
    "\n",
    "# Jupyter Notebook 기본 기능 정리\n",
    "\n",
    "<br/>\n",
    "\n",
    "## 모드 ( 단축키 )\n",
    "- 명령 모드 ( ESC ) : 셀에 대한 수정을 중단하고 해당 셀에 다른 jupyter notebook의 단축키나 기능을 이용할 때 사용한다.  \n",
    "- 편집 모드 ( ENTER ) : 셀의 내용을 수정하고 싶을 때 사용. \n",
    "\n",
    "<br/>\n",
    "\n",
    "## 셀 스타일 \n",
    "- MARKDOWN ( 명령모드 상태 + M ) : 셀을 마크다운 형식으로 쓸수 있도록 해준다. \n",
    "- CODE( 명령모드 상태 + Y ) : 셀을 설정한 언어로 사용할 수 있는 상태로 변환해 준다. \n",
    "<br/>설정한 언어 커널에 따라 C, JAVASCRIPT 사용 가능 `추가 작업이 필요`\n",
    "<br/>기본적으로 제공해주는 건 PYTHON\n",
    "\n",
    "<br/>\n",
    "\n",
    "## 단축키\n",
    "- 셀 실행 및 명령모드( SHIFT + ENTER ) : 해당 셀을 실행하고 밑에 실행할 셀이 없을 경우 생성 및 명령모드로 전환\n",
    "- 셀 실행 및 편집모드 ( CTRL + ENTER ) : 해당 셀을 실행하고 명령모드로 전환 \n",
    "- 셀 실행 및 셀 생성 및 새로운 셀 편집모드 ( ALT + ENTER ) : 해당 셀 실행, 무조건 셀 생성, 생성 셀 편집모드 전환\n",
    "- 셀 삭제 ( 명령모드 + X , 명령모드 + D, D ) : 해당 셀 삭제 \n",
    "- 셀 되돌리기 ( 명령모드 + Z ) : 전 상태로 되돌린다.\n",
    "- 셀 위로 생성 ( 명령모드 + a ) : 명령모드 상태 셀에서 위로 셀을 생성 ( Above )\n",
    "- 셀 아래로 생성 ( 명령모드 + b ) : 명령모드 상태 셀에서 아래로 셀을 생성 ( Below ) \n",
    "\n"
   ]
  },
  {
   "cell_type": "code",
   "execution_count": 5,
   "metadata": {
    "ExecuteTime": {
     "end_time": "2020-06-17T15:20:21.989699Z",
     "start_time": "2020-06-17T15:20:21.983714Z"
    }
   },
   "outputs": [
    {
     "data": {
      "text/plain": [
       "'C:\\\\Users\\\\mordium\\\\Downloads\\\\fast_campus_class\\\\tools\\\\jupyter'"
      ]
     },
     "execution_count": 5,
     "metadata": {},
     "output_type": "execute_result"
    }
   ],
   "source": [
    "# 이런 식으로 스타일이 CODE 였을 때, 코드를 실행 및 결과가 출력 된다. \n",
    "\n",
    "mordiumaco = 'CHEF'\n",
    "mordiumaco"
   ]
  },
  {
   "cell_type": "markdown",
   "metadata": {},
   "source": [
    "## Magic Command \n",
    "주피터 노트북에서 제공해주는 특별 동작 명령어.<br/>\n",
    "셀 스타일이 코드 스타일일 경우 사용이 가능하다.\n",
    "\n",
    "### 표현을 위한 prefix\n",
    "- % : 한 라인의 매직 커맨드를 동작시킨다.\n",
    "- %% : 셀 단위의 매직 커맨드를 동작시킨다.\n",
    "\n",
    "### Magic Command List \n",
    "    - pwd : 현 주피터 노트북 파일의 경로\n",
    "    - ls : 현 폴더(Directory)의 파일 리스트 \n",
    "    - whos : 현 파일에서 메모리에 할당된 변수 리스트 \n",
    "    - reset : 현 파일에서 메모리에 할당된 변수 리스트를 모두 삭제 "
   ]
  },
  {
   "cell_type": "code",
   "execution_count": 6,
   "metadata": {
    "ExecuteTime": {
     "end_time": "2020-06-17T15:29:02.682804Z",
     "start_time": "2020-06-17T15:29:02.675802Z"
    }
   },
   "outputs": [
    {
     "data": {
      "text/plain": [
       "'C:\\\\Users\\\\mordium\\\\Downloads\\\\fast_campus_class\\\\tools\\\\jupyter'"
      ]
     },
     "execution_count": 6,
     "metadata": {},
     "output_type": "execute_result"
    }
   ],
   "source": [
    "# 현 파일 경로\n",
    "%pwd"
   ]
  },
  {
   "cell_type": "code",
   "execution_count": 10,
   "metadata": {
    "ExecuteTime": {
     "end_time": "2020-06-17T15:30:23.033773Z",
     "start_time": "2020-06-17T15:30:23.006846Z"
    }
   },
   "outputs": [
    {
     "name": "stdout",
     "output_type": "stream",
     "text": [
      " C 드라이브의 볼륨에는 이름이 없습니다.\n",
      " 볼륨 일련 번호: 4253-E13B\n",
      "\n",
      " C:\\Users\\mordium\\Downloads\\fast_campus_class\\tools\\jupyter 디렉터리\n",
      "\n",
      "2020-06-18  오전 12:30    <DIR>          .\n",
      "2020-06-18  오전 12:30    <DIR>          ..\n",
      "2020-06-18  오전 12:29    <DIR>          .ipynb_checkpoints\n",
      "2020-06-18  오전 12:30             6,438 jupyter_note_basic_function.ipynb\n",
      "               1개 파일               6,438 바이트\n",
      "               3개 디렉터리  91,452,256,256 바이트 남음\n"
     ]
    }
   ],
   "source": [
    "#현 폴더 파일 리스트\n",
    "%ls"
   ]
  },
  {
   "cell_type": "code",
   "execution_count": 12,
   "metadata": {
    "ExecuteTime": {
     "end_time": "2020-06-17T15:32:23.376400Z",
     "start_time": "2020-06-17T15:32:23.370417Z"
    }
   },
   "outputs": [
    {
     "name": "stdout",
     "output_type": "stream",
     "text": [
      "Variable          Type                          Data/Info\n",
      "---------------------------------------------------------\n",
      "NamespaceMagics   MetaHasTraits                 <class 'IPython.core.magi<...>mespace.NamespaceMagics'>\n",
      "autopep8          module                        <module 'autopep8' from '<...>e-packages\\\\autopep8.py'>\n",
      "get_ipython       function                      <function get_ipython at 0x0000023724615678>\n",
      "getsizeof         builtin_function_or_method    <built-in function getsizeof>\n",
      "json              module                        <module 'json' from 'C:\\\\<...>\\lib\\\\json\\\\__init__.py'>\n",
      "mordiumaco        str                           CHEF\n",
      "var_dic_list      function                      <function var_dic_list at 0x000002372C343558>\n"
     ]
    }
   ],
   "source": [
    "#현 파일에 선언되어 메모리에 할당된 변수들 \n",
    "%whos"
   ]
  },
  {
   "cell_type": "code",
   "execution_count": 13,
   "metadata": {
    "ExecuteTime": {
     "end_time": "2020-06-17T15:32:48.246113Z",
     "start_time": "2020-06-17T15:32:45.414651Z"
    }
   },
   "outputs": [
    {
     "name": "stdout",
     "output_type": "stream",
     "text": [
      "Once deleted, variables cannot be recovered. Proceed (y/[n])? y\n"
     ]
    }
   ],
   "source": [
    "# 현 파일에서 메모리에 할당된 변수 리스트를 모두 삭제 \n",
    "%reset"
   ]
  },
  {
   "cell_type": "code",
   "execution_count": 14,
   "metadata": {
    "ExecuteTime": {
     "end_time": "2020-06-17T15:33:03.735776Z",
     "start_time": "2020-06-17T15:33:03.730824Z"
    }
   },
   "outputs": [
    {
     "name": "stdout",
     "output_type": "stream",
     "text": [
      "Variable          Type                          Data/Info\n",
      "---------------------------------------------------------\n",
      "NamespaceMagics   MetaHasTraits                 <class 'IPython.core.magi<...>mespace.NamespaceMagics'>\n",
      "get_ipython       function                      <function get_ipython at 0x0000023724615678>\n",
      "getsizeof         builtin_function_or_method    <built-in function getsizeof>\n",
      "json              module                        <module 'json' from 'C:\\\\<...>\\lib\\\\json\\\\__init__.py'>\n",
      "np                module                        <module 'numpy' from 'C:\\<...>ges\\\\numpy\\\\__init__.py'>\n",
      "var_dic_list      function                      <function var_dic_list at 0x000002372C30CC18>\n"
     ]
    }
   ],
   "source": [
    "#다시 확인\n",
    "#기존에 해당 파일에 선언했던 메모리에 할당했던 mordiumaco 변수명이 사라짐\n",
    "%whos"
   ]
  },
  {
   "cell_type": "markdown",
   "metadata": {
    "ExecuteTime": {
     "end_time": "2020-06-17T15:42:10.925006Z",
     "start_time": "2020-06-17T15:42:10.918024Z"
    }
   },
   "source": [
    "## Shell Command\n",
    "- 주피터 노트북에서 설정된 쉘 환경의 명령을 사용할 수 있다. \n",
    "- 명령어 앞에 `!`를 붙이면 된다.\n",
    "- 참고로 Window 사용자는 명령 프롬프트 CLI가 기본이다. <br/>\n",
    "`리눅스의 기본 쉘인 BASH SHELL과 명령어가 다르니 참고. ( 필자는 윈도우 사용자 )`"
   ]
  },
  {
   "cell_type": "code",
   "execution_count": 18,
   "metadata": {
    "ExecuteTime": {
     "end_time": "2020-06-17T15:43:18.183396Z",
     "start_time": "2020-06-17T15:43:18.157468Z"
    }
   },
   "outputs": [
    {
     "name": "stdout",
     "output_type": "stream",
     "text": [
      " C 드라이브의 볼륨에는 이름이 없습니다.\n",
      " 볼륨 일련 번호: 4253-E13B\n",
      "\n",
      " C:\\Users\\mordium\\Downloads\\fast_campus_class\\tools\\jupyter 디렉터리\n",
      "\n",
      "2020-06-18  오전 12:42    <DIR>          .\n",
      "2020-06-18  오전 12:42    <DIR>          ..\n",
      "2020-06-18  오전 12:29    <DIR>          .ipynb_checkpoints\n",
      "2020-06-18  오전 12:42            10,096 jupyter_note_basic_function.ipynb\n",
      "               1개 파일              10,096 바이트\n",
      "               3개 디렉터리  91,453,046,784 바이트 남음\n"
     ]
    }
   ],
   "source": [
    "# 쉘 명령어 파일 리스트 출력\n",
    "!dir"
   ]
  },
  {
   "cell_type": "code",
   "execution_count": 2,
   "metadata": {
    "ExecuteTime": {
     "end_time": "2020-06-17T15:47:31.520145Z",
     "start_time": "2020-06-17T15:47:31.495209Z"
    }
   },
   "outputs": [
    {
     "name": "stdout",
     "output_type": "stream",
     "text": [
      "'Mordiumaco'\n"
     ]
    }
   ],
   "source": [
    "# 쉘 명령어 메세지 출력\n",
    "!echo 'Mordiumaco'"
   ]
  }
 ],
 "metadata": {
  "hide_input": false,
  "kernelspec": {
   "display_name": "Python 3",
   "language": "python",
   "name": "python3"
  },
  "language_info": {
   "codemirror_mode": {
    "name": "ipython",
    "version": 3
   },
   "file_extension": ".py",
   "mimetype": "text/x-python",
   "name": "python",
   "nbconvert_exporter": "python",
   "pygments_lexer": "ipython3",
   "version": "3.7.6"
  },
  "toc": {
   "base_numbering": 1,
   "nav_menu": {},
   "number_sections": true,
   "sideBar": true,
   "skip_h1_title": false,
   "title_cell": "Jupyter Notebook",
   "title_sidebar": "Contents",
   "toc_cell": true,
   "toc_position": {
    "height": "calc(100% - 180px)",
    "left": "10px",
    "top": "150px",
    "width": "341.333px"
   },
   "toc_section_display": true,
   "toc_window_display": true
  },
  "varInspector": {
   "cols": {
    "lenName": 16,
    "lenType": 16,
    "lenVar": 40
   },
   "kernels_config": {
    "python": {
     "delete_cmd_postfix": "",
     "delete_cmd_prefix": "del ",
     "library": "var_list.py",
     "varRefreshCmd": "print(var_dic_list())"
    },
    "r": {
     "delete_cmd_postfix": ") ",
     "delete_cmd_prefix": "rm(",
     "library": "var_list.r",
     "varRefreshCmd": "cat(var_dic_list()) "
    }
   },
   "types_to_exclude": [
    "module",
    "function",
    "builtin_function_or_method",
    "instance",
    "_Feature"
   ],
   "window_display": false
  }
 },
 "nbformat": 4,
 "nbformat_minor": 4
}
