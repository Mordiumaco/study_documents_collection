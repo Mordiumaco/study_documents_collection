{
 "cells": [
  {
   "cell_type": "markdown",
   "metadata": {
    "toc": true
   },
   "source": [
    "<h1>Gulp Basic<span class=\"tocSkip\"></span></h1>\n",
    "<div class=\"toc\"><ul class=\"toc-item\"><li><span><a href=\"#Gulp\" data-toc-modified-id=\"Gulp-1\"><span class=\"toc-item-num\">1&nbsp;&nbsp;</span>Gulp</a></span><ul class=\"toc-item\"><li><span><a href=\"#특징\" data-toc-modified-id=\"특징-1.1\"><span class=\"toc-item-num\">1.1&nbsp;&nbsp;</span>특징</a></span></li><li><span><a href=\"#플러그인\" data-toc-modified-id=\"플러그인-1.2\"><span class=\"toc-item-num\">1.2&nbsp;&nbsp;</span>플러그인</a></span></li><li><span><a href=\"#Quick-Start\" data-toc-modified-id=\"Quick-Start-1.3\"><span class=\"toc-item-num\">1.3&nbsp;&nbsp;</span>Quick Start</a></span></li></ul></li></ul></div>"
   ]
  },
  {
   "cell_type": "markdown",
   "metadata": {},
   "source": [
    "> 해당 블로그의 글은 공부를 하면서 정리를 한 내용입니다.\n",
    "필자가 미처 모르는 부분이 있거나 잘못된 내용이 있을 수 있습니다. \n",
    "오타 및 잘못된 내용 발견 시, 댓글로 남겨주시면 수정 및 반영하겠습니다.\n",
    "감사합니다. \n",
    "내용은 추가되거나 수정될 수 있습니다\n",
    ">> 2020.06.24 작성 "
   ]
  },
  {
   "cell_type": "markdown",
   "metadata": {},
   "source": [
    "\n",
    "<img  src=\"https://user-images.githubusercontent.com/40539864/85418072-4fbc5880-b5ab-11ea-959c-675ad35524df.jpg\">\n",
    "\n",
    "## Gulp \n",
    "- 한국 기준으로 '걸프'라 불리며, 오픈 소스 자바스크립트 툴킷. \n",
    "- 프론트엔드의 스트리밍 빌드 시스템 \n",
    "- Nodejs 기반의 task runner, 웹 개발에 수반되는 시간 소모적인 반복 task들을 자동화 하기 위해 사용된다. \n",
    "- 다양한 플러그인이 존재하며, gulp 생태계가 존재하는데 약 4000여개의 플로그인이 존재한다 (2020.06.23 기준)\n",
    "\n",
    "> gulpjs intro page에서는 \n",
    "`A toolkit to automate & enhance your workflow` 라 적혀있다. \n",
    "(당신의 워크 플로우를 자동화 시켜주고 향상시켜줄 툴킷)"
   ]
  },
  {
   "cell_type": "markdown",
   "metadata": {
    "ExecuteTime": {
     "end_time": "2020-06-23T14:07:38.376019Z",
     "start_time": "2020-06-23T14:07:38.373048Z"
    }
   },
   "source": [
    "### 특징\n",
    "intro page에서 말하는 3가지 특징은 다음과 같다\n",
    "1. Flexible (유연) \n",
    "    - 환경 구성을 코드로 하고, Gulpfile을 만들어서 모든 자바스크립트 파일을 유틸화 할수 있음 \n",
    "    - gulpfile 파일 내에서 tasks들을 코드로 구성하거나 단일 목적 gulp 플러그인들을 사용하여 작성이 가능하다\n",
    "2. Composable (구성)\n",
    "    - 개별, 중요 task들을 작성. 작은 task를 사용하여 반복은 줄이고 더 큰 task를 빠르고 정확하게 구성할 수 있음.  \n",
    "3. Effiecient (효율)\n",
    "    - gulp stream을 사용하는데, 디스크에 파일이 만들어 지기전에 메모리 상에서 파일들에 대한 변환이 적용되어 진다. \n",
    "    - 그러므로 빠른 빌드 프로세싱이 가능하다."
   ]
  },
  {
   "cell_type": "markdown",
   "metadata": {},
   "source": [
    "### 플러그인\n",
    "다양한 플러그 인들이 있는데, 이 다양한 플러그인들을 이용해 chaining method를 구성하여 task를 구성한다고 생각하면 된다. \n",
    "이미 훌륭히 만들어진 플러그인들이 많이 때문에 사용하면 편하게 task를 구성할 수 있다. \n",
    "대표적으로는 바벨, SASS, Typescript 플러그인 등 다양하다. \n",
    "\n",
    "플러그인 storage 주소: <https://gulpjs.com/plugins>\n"
   ]
  },
  {
   "cell_type": "markdown",
   "metadata": {
    "ExecuteTime": {
     "end_time": "2020-06-23T14:45:45.881337Z",
     "start_time": "2020-06-23T14:45:45.875483Z"
    }
   },
   "source": [
    "### Quick Start \n",
    "\n",
    "> 기본 환경 Nodejs가 설치 되어 있어야합니다.\n",
    " 필자는 npm 대신 yarn을 사용하는 편이다. \n",
    " 최대한 global 의존성을 낮추기 위해서 모든 종속성은 로컬로 추가. \n",
    " gulp cli툴은 yarn을 통해서 사용. \n",
    " Gulp Page에서 제공해주는 Quick Start와 다를 수 있음. \n",
    " git bash에서 해당 명령어들을 사용\n",
    "\n",
    "```bash \n",
    "    \n",
    "    echo '프로젝트 폴더생성'\n",
    "    mkdir gulp-study\n",
    "    echo '프로젝트 폴더이동'\n",
    "    cd gulp-study\n",
    "    echo '해당 폴더에 package.json 생성'\n",
    "    yarn init -y\n",
    "    echo '해당 package.json에 devDependency 추가 및 설치'\n",
    "    yarn add -D gulp-cli gulp\n",
    "    \n",
    "```\n",
    "\n",
    "1. gulp cli툴이 제대로 적용되는지 확인 \n",
    "`자동으로 node_modules\\.bin\\gulp 바이너리를 찾아서 해당 cli를 이용할 수 있게 해준다`\n",
    "\n",
    "```bash \n",
    "\n",
    "    yarn gulp --version \n",
    "    \n",
    "```\n",
    "output\n",
    "\n",
    "```bash \n",
    "    CLI version: 2.3.0\n",
    "    Local version: 4.0.2\n",
    "    Done in 0.67s.\n",
    "``` \n",
    "\n",
    "2. root directory에 gulpfile.js 파일을 만들어 준다. \n",
    "\n",
    "<script src=\"https://gist.github.com/Mordiumaco/2b0dce641bfebb6103480d0061fab89b.js\"></script>\n",
    "\n",
    "3. task 목록이 제대로 표시되는 지 확인\n",
    "\n",
    "```bash \n",
    "\n",
    "    yarn gulp --tasks \n",
    "    \n",
    "```\n",
    "\n",
    "output\n",
    "\n",
    "```bash \n",
    "\n",
    "    [01:08:19] Tasks for D:\\front\\gulp-study\\gulpfile.js\n",
    "    [01:08:19] └── default\n",
    "    Done in 0.87s.\n",
    "    \n",
    "```\n",
    "\n",
    "4. gulp을 통해 default task를 실행 \n",
    "\n",
    "```bash \n",
    "\n",
    "    yarn gulp\n",
    "    \n",
    "```\n",
    "\n",
    "output\n",
    "\n",
    "```bash \n",
    "\n",
    "    [01:09:25] Using gulpfile D:\\front\\gulp-study\\gulpfile.js\n",
    "    [01:09:25] Starting 'default'...\n",
    "    default Task [Function: done]\n",
    "    [01:09:25] Finished 'default' after 5.27 ms\n",
    "    Done in 0.82s.\n",
    "    \n",
    "```"
   ]
  }
 ],
 "metadata": {
  "hide_input": false,
  "kernelspec": {
   "display_name": "Python 3",
   "language": "python",
   "name": "python3"
  },
  "language_info": {
   "codemirror_mode": {
    "name": "ipython",
    "version": 3
   },
   "file_extension": ".py",
   "mimetype": "text/x-python",
   "name": "python",
   "nbconvert_exporter": "python",
   "pygments_lexer": "ipython3",
   "version": "3.7.6"
  },
  "toc": {
   "base_numbering": 1,
   "nav_menu": {},
   "number_sections": true,
   "sideBar": false,
   "skip_h1_title": false,
   "title_cell": "Gulp Basic",
   "title_sidebar": "Contents",
   "toc_cell": true,
   "toc_position": {
    "height": "883.2px",
    "left": "100px",
    "top": "230px",
    "width": "338.3px"
   },
   "toc_section_display": true,
   "toc_window_display": true
  },
  "varInspector": {
   "cols": {
    "lenName": 16,
    "lenType": 16,
    "lenVar": 40
   },
   "kernels_config": {
    "python": {
     "delete_cmd_postfix": "",
     "delete_cmd_prefix": "del ",
     "library": "var_list.py",
     "varRefreshCmd": "print(var_dic_list())"
    },
    "r": {
     "delete_cmd_postfix": ") ",
     "delete_cmd_prefix": "rm(",
     "library": "var_list.r",
     "varRefreshCmd": "cat(var_dic_list()) "
    }
   },
   "types_to_exclude": [
    "module",
    "function",
    "builtin_function_or_method",
    "instance",
    "_Feature"
   ],
   "window_display": false
  }
 },
 "nbformat": 4,
 "nbformat_minor": 4
}
