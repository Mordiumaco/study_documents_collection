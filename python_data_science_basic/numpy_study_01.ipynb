{
 "cells": [
  {
   "cell_type": "markdown",
   "metadata": {},
   "source": [
    "### 2. numpy random \n",
    "\n",
    "- seed: 랜덤값을 설정값 \n",
    "- rand : 균등분포로 난수를 발생 ( 뽑힐 확률이 균등 )\n",
    "- randn : 정규분포로 난수를 발생 ( 0 에서 가까운 데이터가 뽑힐 확률이 높음 `확률 불균등` `실생활 활용 높음` )\n",
    "- ranint : 균등분포로 정수값을 발생 \n",
    "- suffle : 행렬 데이터를 섞어 준다. \n",
    "- choice : 특정 확률로 데이터를 선택한다.\n"
   ]
  },
  {
   "cell_type": "code",
   "execution_count": 18,
   "metadata": {},
   "outputs": [
    {
     "data": {
      "text/plain": [
       "(array([47, 22, 82, 19, 85, 15, 89, 74, 26, 11]),\n",
       " array([47, 22, 82, 19, 85, 15, 89, 74, 26, 11]),\n",
       " array([34, 13, 66, 82, 10, 31, 29, 84, 51, 20]))"
      ]
     },
     "execution_count": 18,
     "metadata": {},
     "output_type": "execute_result"
    }
   ],
   "source": [
    "# seed \n",
    "# 일종 우리가 비밀번호를 암호화 하고 , \n",
    "# 비밀번호를 입력시 같은 형태로 암호화 되는 것과 같다. \n",
    "\n",
    "np.random.seed(1) \n",
    "\n",
    "result1 = np.random.randint (10, 100, 10)\n",
    "\n",
    "\n",
    "np.random.seed(1) \n",
    "\n",
    "result2 = np.random.randint (10, 100, 10)\n",
    "\n",
    "np.random.seed(3) \n",
    "\n",
    "result3 = np.random.randint (10, 100, 10)\n",
    "\n",
    "result1, result2, result3"
   ]
  },
  {
   "cell_type": "code",
   "execution_count": 12,
   "metadata": {
    "ExecuteTime": {
     "end_time": "2020-06-14T15:13:02.620418Z",
     "start_time": "2020-06-14T15:13:02.614561Z"
    }
   },
   "outputs": [
    {
     "data": {
      "text/plain": [
       "array([0.55315267, 0.03319343, 0.13132283, 0.29698702, 0.36259969,\n",
       "       0.1178732 , 0.92679611, 0.41885036, 0.90313508, 0.6202898 ])"
      ]
     },
     "execution_count": 12,
     "metadata": {},
     "output_type": "execute_result"
    }
   ],
   "source": [
    "# rand \n",
    "\n",
    "np.random.rand(10)"
   ]
  },
  {
   "cell_type": "code",
   "execution_count": 11,
   "metadata": {
    "ExecuteTime": {
     "end_time": "2020-06-14T15:13:00.385114Z",
     "start_time": "2020-06-14T15:13:00.379289Z"
    }
   },
   "outputs": [
    {
     "data": {
      "text/plain": [
       "array([ 0.3130327 , -1.46599677, -1.84266059, -0.9540866 , -0.6312483 ,\n",
       "       -0.77331752, -0.06460783, -1.70175816, -0.21198452,  2.07267323])"
      ]
     },
     "execution_count": 11,
     "metadata": {},
     "output_type": "execute_result"
    }
   ],
   "source": [
    "# randn \n",
    "\n",
    "np.random.randn(10)"
   ]
  },
  {
   "cell_type": "code",
   "execution_count": 31,
   "metadata": {},
   "outputs": [
    {
     "data": {
      "text/plain": [
       "array([[8, 1, 1, 2],\n",
       "       [8, 9, 8, 5],\n",
       "       [1, 1, 5, 4]])"
      ]
     },
     "execution_count": 31,
     "metadata": {},
     "output_type": "execute_result"
    }
   ],
   "source": [
    "# suffle \n",
    "\n",
    "r = np.random.randint(1, 10, (3, 4))\n",
    "\n",
    "r"
   ]
  },
  {
   "cell_type": "code",
   "execution_count": 34,
   "metadata": {},
   "outputs": [
    {
     "data": {
      "text/plain": [
       "array([[8, 9, 8, 5],\n",
       "       [1, 1, 5, 4],\n",
       "       [8, 1, 1, 2]])"
      ]
     },
     "execution_count": 34,
     "metadata": {},
     "output_type": "execute_result"
    }
   ],
   "source": [
    "np.random.shuffle(r)\n",
    "r"
   ]
  },
  {
   "cell_type": "code",
   "execution_count": 38,
   "metadata": {},
   "outputs": [
    {
     "data": {
      "text/plain": [
       "array([3, 0, 2, 4, 4, 2, 2, 2, 2, 0])"
      ]
     },
     "execution_count": 38,
     "metadata": {},
     "output_type": "execute_result"
    }
   ],
   "source": [
    "# choice \n",
    "# 5까지 (0 ~ 4 까지) (python random 은 끝 숫자가 들어가지만 numpy는 끝숫자 빼고..)\n",
    "# 두번째 인자는 10개 \n",
    "# 세번째 퍼센티지 (합쳐서 숫자가 1이 되어야 한다) [확률 조작..]\n",
    "np.random.choice(5, 10, p = [0.1, 0, 0.4, 0.2, 0.3])"
   ]
  },
  {
   "cell_type": "code",
   "execution_count": 43,
   "metadata": {},
   "outputs": [
    {
     "name": "stdout",
     "output_type": "stream",
     "text": [
      "[1 2 4 5 8 9]\n",
      "[4 1 1 2 3 1]\n"
     ]
    }
   ],
   "source": [
    "#unique 유일한 값들을 뽑아준다. \n",
    "numbers, counts = np.unique(r, return_counts = True)\n",
    "\n",
    "print(numbers)\n",
    "print(counts)"
   ]
  },
  {
   "cell_type": "markdown",
   "metadata": {},
   "source": [
    "\n",
    "### 행렬 데이터의 결합 \n",
    "- concatenate \n"
   ]
  },
  {
   "cell_type": "code",
   "execution_count": 8,
   "metadata": {
    "ExecuteTime": {
     "end_time": "2020-06-14T15:12:18.290449Z",
     "start_time": "2020-06-14T15:12:18.285571Z"
    }
   },
   "outputs": [],
   "source": [
    "na1 = np.random.randint(10, size=(2,3))\n",
    "na2 = np.random.randint(10, size=(3,2))\n",
    "na3 = np.random.randint(10, size=(3,3))"
   ]
  },
  {
   "cell_type": "code",
   "execution_count": 9,
   "metadata": {
    "ExecuteTime": {
     "end_time": "2020-06-14T15:12:19.364607Z",
     "start_time": "2020-06-14T15:12:19.359727Z"
    }
   },
   "outputs": [
    {
     "data": {
      "text/plain": [
       "array([[0, 8, 1],\n",
       "       [4, 5, 8]])"
      ]
     },
     "execution_count": 9,
     "metadata": {},
     "output_type": "execute_result"
    }
   ],
   "source": [
    "# 세로 결합 \n",
    "# 차원이 맞아야 결합이 된다.\n",
    "\n",
    "na1\n",
    "\n"
   ]
  },
  {
   "cell_type": "code",
   "execution_count": 48,
   "metadata": {},
   "outputs": [
    {
     "data": {
      "text/plain": [
       "array([[8, 4],\n",
       "       [7, 8],\n",
       "       [5, 6]])"
      ]
     },
     "execution_count": 48,
     "metadata": {},
     "output_type": "execute_result"
    }
   ],
   "source": [
    "na2"
   ]
  },
  {
   "cell_type": "code",
   "execution_count": 49,
   "metadata": {},
   "outputs": [
    {
     "data": {
      "text/plain": [
       "array([[7, 3, 5],\n",
       "       [1, 8, 9],\n",
       "       [2, 9, 8]])"
      ]
     },
     "execution_count": 49,
     "metadata": {},
     "output_type": "execute_result"
    }
   ],
   "source": [
    "na3"
   ]
  },
  {
   "cell_type": "code",
   "execution_count": 52,
   "metadata": {},
   "outputs": [
    {
     "data": {
      "text/plain": [
       "array([[1, 3, 7],\n",
       "       [4, 9, 0],\n",
       "       [7, 3, 5],\n",
       "       [1, 8, 9],\n",
       "       [2, 9, 8]])"
      ]
     },
     "execution_count": 52,
     "metadata": {},
     "output_type": "execute_result"
    }
   ],
   "source": [
    "#세로 결합\n",
    "# axis default 0인데 이게 세로 설정 1이면 가로 설정(이건.. 라이브러리 마다 다름) \n",
    "np.concatenate((na1,na3))"
   ]
  },
  {
   "cell_type": "code",
   "execution_count": 54,
   "metadata": {},
   "outputs": [
    {
     "data": {
      "text/plain": [
       "array([[8, 4, 7, 3, 5],\n",
       "       [7, 8, 1, 8, 9],\n",
       "       [5, 6, 2, 9, 8]])"
      ]
     },
     "execution_count": 54,
     "metadata": {},
     "output_type": "execute_result"
    }
   ],
   "source": [
    "# 가로 결합 \n",
    "np.concatenate((na2, na3), axis=1)"
   ]
  },
  {
   "cell_type": "code",
   "execution_count": 59,
   "metadata": {},
   "outputs": [
    {
     "data": {
      "text/plain": [
       "array([[1, 4],\n",
       "       [2, 5],\n",
       "       [3, 6]])"
      ]
     },
     "execution_count": 59,
     "metadata": {},
     "output_type": "execute_result"
    }
   ],
   "source": [
    "# c_, r_ (이렇게 써서도 결합할 수 있다.)\n",
    "\n",
    "# column 결합 \n",
    "np.c_[np.array([1,2,3]), np.array([4,5,6])]"
   ]
  },
  {
   "cell_type": "code",
   "execution_count": 61,
   "metadata": {},
   "outputs": [
    {
     "data": {
      "text/plain": [
       "array([1, 2, 3, 4, 5, 6])"
      ]
     },
     "execution_count": 61,
     "metadata": {},
     "output_type": "execute_result"
    }
   ],
   "source": [
    "# row 결합 \n",
    "np.r_[np.array([1,2,3]), np.array([4,5,6])]"
   ]
  }
 ],
 "metadata": {
  "hide_input": false,
  "kernelspec": {
   "display_name": "Python 3",
   "language": "python",
   "name": "python3"
  },
  "language_info": {
   "codemirror_mode": {
    "name": "ipython",
    "version": 3
   },
   "file_extension": ".py",
   "mimetype": "text/x-python",
   "name": "python",
   "nbconvert_exporter": "python",
   "pygments_lexer": "ipython3",
   "version": "3.7.6"
  },
  "toc": {
   "base_numbering": 1,
   "nav_menu": {},
   "number_sections": true,
   "sideBar": true,
   "skip_h1_title": false,
   "title_cell": "Table of Contents",
   "title_sidebar": "Contents",
   "toc_cell": false,
   "toc_position": {},
   "toc_section_display": true,
   "toc_window_display": false
  },
  "varInspector": {
   "cols": {
    "lenName": 16,
    "lenType": 16,
    "lenVar": 40
   },
   "kernels_config": {
    "python": {
     "delete_cmd_postfix": "",
     "delete_cmd_prefix": "del ",
     "library": "var_list.py",
     "varRefreshCmd": "print(var_dic_list())"
    },
    "r": {
     "delete_cmd_postfix": ") ",
     "delete_cmd_prefix": "rm(",
     "library": "var_list.r",
     "varRefreshCmd": "cat(var_dic_list()) "
    }
   },
   "types_to_exclude": [
    "module",
    "function",
    "builtin_function_or_method",
    "instance",
    "_Feature"
   ],
   "window_display": false
  }
 },
 "nbformat": 4,
 "nbformat_minor": 4
}
